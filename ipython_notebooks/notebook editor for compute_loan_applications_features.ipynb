{
  "nbformat": 4,
  "nbformat_minor": 0,
  "metadata": {
    "kernelspec": {
      "display_name": "Python 2",
      "language": "python",
      "name": "python2"
    },
    "associatedRecipe": "compute_loan_applications_features",
    "creator": "gnasai",
    "tags": [
      "recipe-editor"
    ],
    "customFields": {}
  },
  "cells": [
    {
      "cell_type": "code",
      "metadata": {},
      "outputs": [],
      "execution_count": 0,
      "source": [
        "# -*- coding: utf-8 -*-\n",
        "import dataiku\n",
        "import pandas as pd, numpy as np\n",
        "from dataiku import pandasutils as pdu\n",
        "\n",
        "# Recipe inputs\n",
        "\n",
        "loans_application_history_enriched \u003d dataiku.Dataset(\"loan_history_enriched\")\n",
        "df \u003d loans_application_history_enriched.get_dataframe()\n",
        "\n",
        "df[\u0027debt_amnt\u0027] \u003d [d*df.installment.values[idx]/100.0 for idx,d in enumerate(df.dti.values)]\n",
        "\n",
        "df[\"debt_amnt_norm\"] \u003d (df.debt_amnt.values - np.mean(df.debt_amnt.values))/np.std(df.debt_amnt.values)\n",
        "df[\"instal_norm\"] \u003d (df.installment.values - np.mean(df.installment.values))/np.std(df.installment.values)\n",
        "\n",
        "\n",
        "# Recipe outputs\n",
        "loan_applications_features \u003d dataiku.Dataset(\"loan_history_features\")\n",
        "loan_applications_features.write_with_schema(df)"
      ]
    }
  ]
}