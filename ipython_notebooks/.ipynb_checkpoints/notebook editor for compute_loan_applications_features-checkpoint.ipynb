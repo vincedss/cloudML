{
 "cells": [
  {
   "cell_type": "code",
   "execution_count": 0,
   "metadata": {},
   "outputs": [],
   "source": [
    "# -*- coding: utf-8 -*-\n",
    "import dataiku\n",
    "import pandas as pd, numpy as np\n",
    "from dataiku import pandasutils as pdu\n",
    "\n",
    "# Recipe inputs\n",
    "\n",
    "loans_application_history_enriched = dataiku.Dataset(\"loans_application_history_enriched\")\n",
    "df = loans_application_history_enriched.get_dataframe()\n",
    "\n",
    "df['debt_amnt'] = [d*df.installment.values[idx]/100.0 for idx,d in enumerate(df.dti.values)]\n",
    "\n",
    "df[\"debt_amnt_norm\"] = (df.debt_amnt.values - np.mean(df.debt_amnt.values))/np.std(df.debt_amnt.values)\n",
    "df[\"instal_norm\"] = (df.installment.values - np.mean(df.installment.values))/np.std(df.installment.values)\n",
    "\n",
    "\n",
    "# Recipe outputs\n",
    "loan_applications_features = dataiku.Dataset(\"loan_applications_features\")\n",
    "loan_applications_features.write_with_schema(df)"
   ]
  }
 ],
 "metadata": {
  "associatedRecipe": "compute_loan_applications_features",
  "creator": "bmontgomery",
  "customFields": {},
  "kernelspec": {
   "display_name": "Python 2",
   "language": "python",
   "name": "python2"
  },
  "language_info": {
   "codemirror_mode": {
    "name": "ipython",
    "version": 2
   },
   "file_extension": ".py",
   "mimetype": "text/x-python",
   "name": "python",
   "nbconvert_exporter": "python",
   "pygments_lexer": "ipython2",
   "version": "2.7.5"
  },
  "tags": [
   "recipe-editor"
  ]
 },
 "nbformat": 4,
 "nbformat_minor": 1
}
