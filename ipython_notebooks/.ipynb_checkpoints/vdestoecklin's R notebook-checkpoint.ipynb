{
 "cells": [
  {
   "cell_type": "code",
   "execution_count": 3,
   "metadata": {},
   "outputs": [],
   "source": [
    "library(dataiku)\n",
    "library(httr)\n",
    "library(jsonlite)"
   ]
  },
  {
   "cell_type": "code",
   "execution_count": 0,
   "metadata": {},
   "outputs": [],
   "source": [
    "# Example: load a DSS dataset as a R dataframe\n",
    "mydataset <- dkuReadDataset(\"mydataset\", samplingMethod=\"head\", nbRows=100000)"
   ]
  },
  {
   "cell_type": "code",
   "execution_count": 2,
   "metadata": {},
   "outputs": [
    {
     "ename": "ERROR",
     "evalue": "Error in curl::curl_fetch_memory(url, handle = handle): Failed connect to localhost:12500; Connection refused\n",
     "output_type": "error",
     "traceback": [
      "Error in curl::curl_fetch_memory(url, handle = handle): Failed connect to localhost:12500; Connection refused\nTraceback:\n",
      "1. POST(\"http://localhost:12500//public/api/v1/car-loan-scoring/car-loan/predict\", \n .     body = toJSON(list(features = record_to_predict), auto_unbox = TRUE))",
      "2. request_perform(req, hu$handle$handle)",
      "3. request_fetch(req$output, req$url, handle)",
      "4. request_fetch.write_memory(req$output, req$url, handle)",
      "5. curl::curl_fetch_memory(url, handle = handle)"
     ]
    }
   ],
   "source": [
    "\n",
    "record_to_predict = list(\n",
    "    loan_amnt = 10000,\n",
    "    term = \"36 months\",\n",
    "    int_rate = 6.17,\n",
    "    installment = 305,\n",
    "    addr_state = \"AR\",\n",
    "    annual_inc = 23250,\n",
    "    emp_length_month = 120,\n",
    "    home_ownership = \"MORTGAGE\")\n",
    "\n",
    "response <- POST(\"http://localhost:12500//public/api/v1/car-loan-scoring/car-loan/predict\",\n",
    "                    body = toJSON(list(features=record_to_predict), auto_unbox=TRUE))\n",
    "\n",
    "# Handle error if any\n",
    "if (response$status_code != 200) { \n",
    "    error_head <- paste0(\"Query failed (HTTP code \", response$status_code, \"): \"); \n",
    "    resp_content_type <- headers(response)$`content-type` \n",
    "    resp_content <- content(response) \n",
    "    if (resp_content_type == \"application/json\") { \n",
    "        error <- paste0(error_head, resp_content$message); \n",
    "    } else { \n",
    "        error <- paste0(error_head, resp_content); \n",
    "    }\n",
    "    stop(error); \n",
    "};\n",
    "\n",
    "result <- content(response)\n",
    "print(paste0(\"Prediction: \", toJSON(result$result)))\n"
   ]
  },
  {
   "cell_type": "code",
   "execution_count": null,
   "metadata": {},
   "outputs": [],
   "source": []
  }
 ],
 "metadata": {
  "creator": "vdestoecklin",
  "customFields": {},
  "kernelspec": {
   "display_name": "R",
   "language": "R",
   "name": "ir"
  },
  "language_info": {
   "codemirror_mode": "r",
   "file_extension": ".r",
   "mimetype": "text/x-r-source",
   "name": "R",
   "pygments_lexer": "r",
   "version": "3.5.0"
  },
  "tags": []
 },
 "nbformat": 4,
 "nbformat_minor": 1
}
