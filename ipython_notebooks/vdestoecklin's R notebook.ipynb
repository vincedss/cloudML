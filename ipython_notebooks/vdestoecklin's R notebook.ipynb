{
 "cells": [
  {
   "cell_type": "code",
   "execution_count": 2,
   "metadata": {},
   "outputs": [],
   "source": [
    "library(dataiku)"
   ]
  },
  {
   "cell_type": "code",
   "execution_count": 23,
   "metadata": {},
   "outputs": [],
   "source": [
    "# Example: load a DSS dataset as a R dataframe\n",
    "mydataset <- dkuReadDataset(\"loan_metrics_by_state\", samplingMethod=\"head\", nbRows=100000)"
   ]
  },
  {
   "cell_type": "code",
   "execution_count": 25,
   "metadata": {},
   "outputs": [
    {
     "name": "stdout",
     "output_type": "stream",
     "text": [
      "'data.frame':\t50 obs. of  11 variables:\n",
      " $ addr_state     : chr  \"KY\" \"MO\" \"NC\" \"AL\" ...\n",
      " $ loan_amnt_avg  : num  13245 12990 13935 13861 13728 ...\n",
      " $ loan_amnt_sum  : int  8953750 14951200 26239050 12322250 14771100 34850 6859500 40292925 5325900 17469000 ...\n",
      " $ int_rate_min   : num  5.42 5.42 5.42 5.42 5.42 ...\n",
      " $ int_rate_max   : num  26.1 26.1 26.1 25.9 26 ...\n",
      " $ int_rate_avg   : num  13.7 13.4 13.7 13.9 13.3 ...\n",
      " $ installment_avg: num  395 388 419 415 417 ...\n",
      " $ dti_min        : num  0.72 0.23 0 0 0.38 2.94 0 0 0.29 0 ...\n",
      " $ dti_max        : num  39.7 39.6 39.7 39.4 38 ...\n",
      " $ dti_avg        : num  17.9 17.9 17.7 18.7 15.8 ...\n",
      " $ count          : int  676 1151 1883 889 1076 2 503 2748 376 1328 ...\n"
     ]
    }
   ],
   "source": [
    "str(mydataset)"
   ]
  },
  {
   "cell_type": "code",
   "execution_count": 7,
   "metadata": {},
   "outputs": [],
   "source": [
    "a = \"your expected interest rate is\"\n",
    "b = \"100%\"\n",
    "c = \"your expected interest rate is not\"\n",
    "d = \"20%\""
   ]
  },
  {
   "cell_type": "code",
   "execution_count": 4,
   "metadata": {},
   "outputs": [],
   "source": [
    "row1 = c(a, b)\n",
    "row2 = c(c, d)"
   ]
  },
  {
   "cell_type": "code",
   "execution_count": 5,
   "metadata": {},
   "outputs": [],
   "source": [
    "df = as.data.frame(row1, row2)"
   ]
  },
  {
   "cell_type": "code",
   "execution_count": 6,
   "metadata": {},
   "outputs": [
    {
     "data": {
      "text/html": [
       "<table>\n",
       "<thead><tr><th></th><th scope=col>row1</th></tr></thead>\n",
       "<tbody>\n",
       "\t<tr><th scope=row>your expected interest rate is</th><td>your expected interest rate is</td></tr>\n",
       "\t<tr><th scope=row>20%</th><td>100%                          </td></tr>\n",
       "</tbody>\n",
       "</table>\n"
      ],
      "text/latex": [
       "\\begin{tabular}{r|l}\n",
       "  & row1\\\\\n",
       "\\hline\n",
       "\tyour expected interest rate is & your expected interest rate is\\\\\n",
       "\t20\\% & 100\\%                          \\\\\n",
       "\\end{tabular}\n"
      ],
      "text/markdown": [
       "\n",
       "| <!--/--> | row1 | \n",
       "|---|---|\n",
       "| your expected interest rate is | your expected interest rate is | \n",
       "| 20% | 100%                           | \n",
       "\n",
       "\n"
      ],
      "text/plain": [
       "                               row1                          \n",
       "your expected interest rate is your expected interest rate is\n",
       "20%                            100%                          "
      ]
     },
     "metadata": {},
     "output_type": "display_data"
    }
   ],
   "source": [
    "df"
   ]
  },
  {
   "cell_type": "code",
   "execution_count": 11,
   "metadata": {},
   "outputs": [],
   "source": [
    "loan_amnt = 10000\n",
    "prediction_int_rate = 8.8"
   ]
  },
  {
   "cell_type": "code",
   "execution_count": 21,
   "metadata": {},
   "outputs": [
    {
     "name": "stdout",
     "output_type": "stream",
     "text": [
      "                                col2\n",
      "Your proposed interest Rate is 8.8 %\n",
      "Your monthly installments are  10880\n",
      "The total cost of your Loan is  test\n"
     ]
    }
   ],
   "source": [
    "col1 = c(\"Your proposed interest Rate is\", \"Your monthly installments are\", \"The total cost of your Loan is\")\n",
    "col2 = c(paste(round(prediction_int_rate, 2), \"%\"), as.numeric(loan_amnt*(1+prediction_int_rate/100)), \"test\")\n",
    "            \n",
    "df <- as.data.frame(col2, col1)\n",
    "print(df)         "
   ]
  },
  {
   "cell_type": "code",
   "execution_count": 16,
   "metadata": {},
   "outputs": [
    {
     "data": {
      "text/html": [
       "<ol class=list-inline>\n",
       "\t<li>'8.8 %'</li>\n",
       "\t<li>'10880'</li>\n",
       "</ol>\n"
      ],
      "text/latex": [
       "\\begin{enumerate*}\n",
       "\\item '8.8 \\%'\n",
       "\\item '10880'\n",
       "\\end{enumerate*}\n"
      ],
      "text/markdown": [
       "1. '8.8 %'\n",
       "2. '10880'\n",
       "\n",
       "\n"
      ],
      "text/plain": [
       "[1] \"8.8 %\" \"10880\""
      ]
     },
     "metadata": {},
     "output_type": "display_data"
    }
   ],
   "source": [
    "col2"
   ]
  },
  {
   "cell_type": "code",
   "execution_count": null,
   "metadata": {},
   "outputs": [],
   "source": []
  }
 ],
 "metadata": {
  "creator": "vdestoecklin",
  "customFields": {},
  "kernelspec": {
   "display_name": "R",
   "language": "R",
   "name": "ir"
  },
  "language_info": {
   "codemirror_mode": "r",
   "file_extension": ".r",
   "mimetype": "text/x-r-source",
   "name": "R",
   "pygments_lexer": "r",
   "version": "3.5.0"
  },
  "tags": []
 },
 "nbformat": 4,
 "nbformat_minor": 1
}
